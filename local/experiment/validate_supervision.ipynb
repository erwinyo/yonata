{
 "cells": [
  {
   "cell_type": "code",
   "execution_count": 5,
   "id": "8a09ee92",
   "metadata": {},
   "outputs": [],
   "source": [
    "from ultralytics import YOLO\n",
    "import supervision as sv\n",
    "import cv2"
   ]
  },
  {
   "cell_type": "code",
   "execution_count": 7,
   "id": "81b2ebe1",
   "metadata": {},
   "outputs": [
    {
     "name": "stdout",
     "output_type": "stream",
     "text": [
      "WARNING ⚠️ 'source' is missing. Using 'source=/home/user/.cache/pypoetry/virtualenvs/yonata-SCgLu-n2-py3.12/lib/python3.12/site-packages/ultralytics/assets'.\n"
     ]
    },
    {
     "name": "stdout",
     "output_type": "stream",
     "text": [
      "\n"
     ]
    },
    {
     "name": "stderr",
     "output_type": "stream",
     "text": [
      "[ WARN:0@62.721] global loadsave.cpp:268 findDecoder imread_('https://ultralytics.com/images/bus.jpg'): can't open/read file: check file path/integrity\n"
     ]
    },
    {
     "name": "stdout",
     "output_type": "stream",
     "text": [
      "image 1/2 /home/user/.cache/pypoetry/virtualenvs/yonata-SCgLu-n2-py3.12/lib/python3.12/site-packages/ultralytics/assets/bus.jpg: 640x480 4 persons, 1 bus, 49.2ms\n",
      "image 2/2 /home/user/.cache/pypoetry/virtualenvs/yonata-SCgLu-n2-py3.12/lib/python3.12/site-packages/ultralytics/assets/zidane.jpg: 384x640 2 persons, 1 tie, 48.4ms\n",
      "Speed: 2.3ms preprocess, 48.8ms inference, 2.0ms postprocess per image at shape (1, 3, 384, 640)\n"
     ]
    }
   ],
   "source": [
    "model = YOLO(model=\"yolo11n.pt\")\n",
    "\n",
    "img = cv2.imread(\"https://ultralytics.com/images/bus.jpg\")\n",
    "result = model.predict(img)[0]\n",
    "detections = sv.Detections.from_ultralytics(result)"
   ]
  },
  {
   "cell_type": "code",
   "execution_count": 8,
   "id": "af28e2af",
   "metadata": {},
   "outputs": [
    {
     "data": {
      "text/plain": [
       "Detections(xyxy=array([[     3.8356,      229.36,      796.22,      728.43],\n",
       "       [     671.02,      394.86,      809.81,      878.72],\n",
       "       [     47.406,      399.57,       239.3,       904.2],\n",
       "       [     223.06,      408.69,      344.46,      860.44],\n",
       "       [   0.022543,      556.07,      68.862,      872.37]], dtype=float32), mask=None, confidence=array([    0.94034,      0.8882,     0.87822,     0.85582,     0.62171], dtype=float32), class_id=array([5, 0, 0, 0, 0]), tracker_id=None, data={'class_name': array(['bus', 'person', 'person', 'person', 'person'], dtype='<U6')}, metadata={})"
      ]
     },
     "execution_count": 8,
     "metadata": {},
     "output_type": "execute_result"
    }
   ],
   "source": [
    "detections"
   ]
  },
  {
   "cell_type": "code",
   "execution_count": null,
   "id": "448abf65",
   "metadata": {},
   "outputs": [],
   "source": []
  },
  {
   "cell_type": "code",
   "execution_count": null,
   "id": "5b1191b1",
   "metadata": {},
   "outputs": [],
   "source": []
  },
  {
   "cell_type": "code",
   "execution_count": null,
   "id": "b57a6814",
   "metadata": {},
   "outputs": [],
   "source": []
  }
 ],
 "metadata": {
  "kernelspec": {
   "display_name": "yonata-SCgLu-n2-py3.12",
   "language": "python",
   "name": "python3"
  },
  "language_info": {
   "codemirror_mode": {
    "name": "ipython",
    "version": 3
   },
   "file_extension": ".py",
   "mimetype": "text/x-python",
   "name": "python",
   "nbconvert_exporter": "python",
   "pygments_lexer": "ipython3",
   "version": "3.12.10"
  }
 },
 "nbformat": 4,
 "nbformat_minor": 5
}
