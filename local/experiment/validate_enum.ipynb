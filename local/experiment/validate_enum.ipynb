{
 "cells": [
  {
   "cell_type": "code",
   "execution_count": 1,
   "id": "291b0ff9",
   "metadata": {},
   "outputs": [],
   "source": [
    "from enum import Enum"
   ]
  },
  {
   "cell_type": "code",
   "execution_count": 2,
   "id": "5d5779e3",
   "metadata": {},
   "outputs": [],
   "source": [
    "class TaskStatus(str, Enum):\n",
    "    OPEN = \"open\"\n",
    "    ON_PROGRESS = \"on_progress\"\n",
    "    CLOSED = \"closed\""
   ]
  },
  {
   "cell_type": "code",
   "execution_count": 5,
   "id": "c28fe117",
   "metadata": {},
   "outputs": [
    {
     "data": {
      "text/plain": [
       "<TaskStatus.ON_PROGRESS: 'on_progress'>"
      ]
     },
     "execution_count": 5,
     "metadata": {},
     "output_type": "execute_result"
    }
   ],
   "source": [
    "TaskStatus.ON_PROGRESS"
   ]
  },
  {
   "cell_type": "code",
   "execution_count": null,
   "id": "9c62525e",
   "metadata": {},
   "outputs": [],
   "source": []
  }
 ],
 "metadata": {
  "kernelspec": {
   "display_name": "yonata-SCgLu-n2-py3.12",
   "language": "python",
   "name": "python3"
  },
  "language_info": {
   "codemirror_mode": {
    "name": "ipython",
    "version": 3
   },
   "file_extension": ".py",
   "mimetype": "text/x-python",
   "name": "python",
   "nbconvert_exporter": "python",
   "pygments_lexer": "ipython3",
   "version": "3.12.10"
  }
 },
 "nbformat": 4,
 "nbformat_minor": 5
}
