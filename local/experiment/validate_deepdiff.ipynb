{
 "cells": [
  {
   "cell_type": "code",
   "execution_count": 2,
   "id": "a664cf31",
   "metadata": {},
   "outputs": [],
   "source": [
    "from deepdiff import DeepDiff"
   ]
  },
  {
   "cell_type": "code",
   "execution_count": 16,
   "id": "95931954",
   "metadata": {},
   "outputs": [
    {
     "data": {
      "text/plain": [
       "{}"
      ]
     },
     "execution_count": 16,
     "metadata": {},
     "output_type": "execute_result"
    }
   ],
   "source": [
    "dict1 = {\n",
    "    'store': 'PERTAMINA 34.40111',\n",
    "    'items': [{'product_code': '', 'product_name': 'PERTAMAX', 'quantity': 27.77, 'price': 9000}],\n",
    "    'subtotal': 250000,\n",
    "    'tax': 0,\n",
    "    'discount': 0,\n",
    "    'total': 250000,\n",
    "    'paid': 250000,\n",
    "    'change': 0\n",
    "}\n",
    "\n",
    "dict2 = {\n",
    "    'store': 'PERTAMINA 34.40111',\n",
    "    'items': [{'product_code': '', 'product_name': 'PERTAMAX', 'quantity': 27.77, 'price': 9000}],\n",
    "    'subtotal': 250000,\n",
    "    'tax': 0,\n",
    "    'discount': 0,\n",
    "    'total': 250000,\n",
    "    'paid': 250000,\n",
    "    'change': 0\n",
    "}\n",
    "diff = DeepDiff(dict1, dict2, significant_digits=2)\n",
    "diff\n"
   ]
  },
  {
   "cell_type": "code",
   "execution_count": 14,
   "id": "35c2f4be",
   "metadata": {},
   "outputs": [
    {
     "name": "stdout",
     "output_type": "stream",
     "text": [
      "{'type_changes': 1, 'values_changed': 3}\n"
     ]
    }
   ],
   "source": [
    "res = {}\n",
    "for d in diff.keys():\n",
    "    res[d] = len(diff[d].keys())\n",
    "\n",
    "print(res)"
   ]
  },
  {
   "cell_type": "markdown",
   "id": "33e212b7",
   "metadata": {},
   "source": [
    "# Count Elements"
   ]
  },
  {
   "cell_type": "code",
   "execution_count": 12,
   "id": "e1fd6fb7",
   "metadata": {},
   "outputs": [],
   "source": [
    "def count_elements(obj):\n",
    "    count = 0\n",
    "    if isinstance(obj, dict):\n",
    "        for value in obj.values():\n",
    "            count += 1  # Count the current key-value pair\n",
    "            count += count_elements(value)\n",
    "    elif isinstance(obj, list):\n",
    "        for item in obj:\n",
    "            count += 1  # Count the list item itself\n",
    "            count += count_elements(item)\n",
    "    return count"
   ]
  },
  {
   "cell_type": "code",
   "execution_count": 13,
   "id": "2ae6e6e1",
   "metadata": {},
   "outputs": [
    {
     "data": {
      "text/plain": [
       "13"
      ]
     },
     "execution_count": 13,
     "metadata": {},
     "output_type": "execute_result"
    }
   ],
   "source": [
    "dict_o = {\n",
    "    'store': 'PERTAMINA',\n",
    "    'items': [\n",
    "        {\n",
    "            'product_code': 'null', \n",
    "            'product_name': 'PERTAMAX', \n",
    "            'quantity': 1, \n",
    "            'price': 250000\n",
    "        },\n",
    "    ],\n",
    "    'subtotal': 250000,\n",
    "    'tax': 0,\n",
    "    'discount': 0,\n",
    "    'total': 250000,\n",
    "    'paid': 250000,\n",
    "    'change': 0\n",
    "}\n",
    "count_elements(dict_o)"
   ]
  },
  {
   "cell_type": "code",
   "execution_count": null,
   "id": "7e30e8fd",
   "metadata": {},
   "outputs": [],
   "source": [
    "\n"
   ]
  },
  {
   "cell_type": "code",
   "execution_count": null,
   "id": "bf92be80",
   "metadata": {},
   "outputs": [],
   "source": []
  },
  {
   "cell_type": "code",
   "execution_count": null,
   "id": "6bf29e09",
   "metadata": {},
   "outputs": [],
   "source": []
  }
 ],
 "metadata": {
  "kernelspec": {
   "display_name": "yonata-SCgLu-n2-py3.12",
   "language": "python",
   "name": "python3"
  },
  "language_info": {
   "codemirror_mode": {
    "name": "ipython",
    "version": 3
   },
   "file_extension": ".py",
   "mimetype": "text/x-python",
   "name": "python",
   "nbconvert_exporter": "python",
   "pygments_lexer": "ipython3",
   "version": "3.12.10"
  }
 },
 "nbformat": 4,
 "nbformat_minor": 5
}
